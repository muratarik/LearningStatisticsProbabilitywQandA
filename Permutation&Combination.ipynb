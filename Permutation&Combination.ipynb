{
 "cells": [
  {
   "cell_type": "markdown",
   "metadata": {},
   "source": [
    "# <span style=\"color:red\">**PERMUTATION AND COMBINATION**</span>"
   ]
  },
  {
   "cell_type": "markdown",
   "metadata": {},
   "source": [
    "**What is _FACTORIAL_ ?**\n",
    "\n",
    "$n!$, n factorial is defined as:\n",
    "\n",
    "$n! = n(n-1)(n-2).....(2)(1)$\n",
    "\n",
    "**What is _PERMUTATION_ ?**\n",
    "\n",
    "number of ways you make an ordered sequence from set of distinct objects without replacement\n",
    "\n",
    "number of distinct objects: n \n",
    "\n",
    "number of objects you take: k\n",
    "\n",
    "$^nP_k =\\frac{n!}{(n-k)!}$\n",
    "\n",
    "**What is _COMBINATION_ ?**\n",
    "\n",
    "number of ways you make an unordered sequence from set of distinct objects\n",
    "\n",
    "$\\binom{n}{k} = \\frac{n!}{k!(n-k)!}$"
   ]
  },
  {
   "cell_type": "code",
   "execution_count": null,
   "metadata": {},
   "outputs": [],
   "source": []
  }
 ],
 "metadata": {
  "kernelspec": {
   "display_name": "Python 3",
   "language": "python",
   "name": "python3"
  },
  "language_info": {
   "codemirror_mode": {
    "name": "ipython",
    "version": 3
   },
   "file_extension": ".py",
   "mimetype": "text/x-python",
   "name": "python",
   "nbconvert_exporter": "python",
   "pygments_lexer": "ipython3",
   "version": "3.7.3"
  },
  "toc": {
   "base_numbering": 1,
   "nav_menu": {},
   "number_sections": false,
   "sideBar": true,
   "skip_h1_title": true,
   "title_cell": "Table of Contents",
   "title_sidebar": "Contents",
   "toc_cell": false,
   "toc_position": {},
   "toc_section_display": true,
   "toc_window_display": false
  }
 },
 "nbformat": 4,
 "nbformat_minor": 2
}
