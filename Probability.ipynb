{
 "cells": [
  {
   "cell_type": "code",
   "execution_count": null,
   "metadata": {},
   "outputs": [],
   "source": []
  },
  {
   "cell_type": "markdown",
   "metadata": {},
   "source": [
    "# <span style=\"color:red\">**PROBABILITY THEORY**</span>"
   ]
  },
  {
   "cell_type": "markdown",
   "metadata": {},
   "source": [
    "--"
   ]
  },
  {
   "cell_type": "markdown",
   "metadata": {},
   "source": [
    "**Question: What is _PROBABILITY_ ?**\n",
    "\n",
    "**Answer:** Probability is the branch of mathematics concerning numerical descriptions of how likely an event is to occur, or how likely it is that a proposition is true.https://en.wikipedia.org/wiki/Probability\n",
    "\n",
    "**What is modern definition of_PPROBABILITY THEORY_ ?**\n",
    "\n",
    "set of all possible outcomes in classical sense, denoted by \\Omega . It is then assumed that for each element \n",
    "\n",
    "$x\\in\\Omega$, an intrinsic \"probability\" value $f(x)$ is attached, which satisfies the following properties:https://en.wikipedia.org/wiki/Probability_theory\n",
    "\n",
    "1. $f(x) \\in [0,1]$ for all $x \\in \\Omega$\n",
    "\n",
    "\n",
    "2. $\\sum_{x \\in \\Omega} f(x)$"
   ]
  },
  {
   "cell_type": "markdown",
   "metadata": {},
   "source": [
    "**What is _SAMPLE SPACE_ ?**\n",
    "\n",
    "In probability theory, the sample space (also called sample description space or possibility space) of an experiment or random trial is the set of all possible outcomes or results of that experiment. https://en.wikipedia.org/wiki/Sample_space\n",
    "\n",
    "**What is _ELEMENTARY EVENT_ ?**\n",
    "\n",
    "In probability theory, an elementary event (also called an atomic event or sample point) is an event which contains only a single outcome in the sample space.\n",
    "\n",
    "**What is _EVENT_ ?**\n",
    "\n",
    "In probability theory, an event is a set of outcomes of an experiment (a subset of the sample space) to which a probability is assigned\n",
    "\n",
    "**What is _PROBABILITY of an ELEMENTARY EVENT_ ?**\n",
    "\n",
    "Elementary events may occur with probabilities that are between zero and one (inclusively).\n",
    "\n",
    "$0\\leqslant P(A) \\leqslant 1$"
   ]
  },
  {
   "cell_type": "markdown",
   "metadata": {},
   "source": [
    "**What is _COMPLEMENTARY EVENT_ ?**\n",
    "\n",
    "In probability theory, the complement of any event A is the event (not A), i.e. the event that A does not occur.\n",
    "\n",
    "The event A and its complement (not A) are mutually exclusive and exhaustive.\n",
    "\n",
    "$P(not A)=P(A^{c})=1-P(A)$"
   ]
  },
  {
   "cell_type": "markdown",
   "metadata": {},
   "source": [
    "**What is _JOINTS EVENTS' PROBABILITY_ ?**\n",
    "\n",
    "The probability of events A and B occur at the same time\n",
    "\n",
    "\n",
    "$P(A\\bigcup B) = P(A) + P(B) - P(A\\bigcap B)$"
   ]
  },
  {
   "cell_type": "markdown",
   "metadata": {},
   "source": [
    "**What is definition of _INDEPENDENT EVENTS_ ?**\n",
    "\n",
    "If events $A_1, A_2, A_3...$ are independent then\n",
    "\n",
    "\n",
    "$P(A_1 and A_2 and A_3 and ...) = P(A_1\\bigcap A_2 \\bigcap A_3 \\bigcap ...) = P(A_1) P(A_2) \n",
    "P(A_3) ...$\n",
    "\n",
    "**What is definition of _MUTUALLY EXCLUSIVE EVENTS_ ?**\n",
    "\n",
    "If events $A_1, A_2, A_3...$ are mutually exclusive then\n",
    "\n",
    "\n",
    "$P(A_1 or A_2 or A_3 or ...) = P(A_1\\bigcup A_2 \\bigcup A_3 \\bigcup ...) = P(A_1) + P(A_2) +\n",
    "P(A_3) + ...$"
   ]
  },
  {
   "cell_type": "markdown",
   "metadata": {},
   "source": [
    "**What is definition of _CONDITIONAL PROBABILITY_ ?**\n",
    "\n",
    "Answer: If I know event A has already occurred and probability of event B is denoted by $P(B|A)$ and we read it as conditional probability of B given A\n",
    "\n",
    "**What is _MULTIPLICATION RULE_ related to conditional probability?**\n",
    "\n",
    "$P(A \\bigcap B) = P(B|A)P(A)$"
   ]
  },
  {
   "cell_type": "markdown",
   "metadata": {},
   "source": [
    "**What is _BAYES'S RULE_ and its formula?**\n",
    "\n",
    "A: It is related to multiplication rule and is a relational statement between marginal probability $P(A)$, conditional probability $P(B|A)$, and  joint probability $P(A \\bigcup B)$\n",
    "\n",
    "$P(B|A) = \\frac {P(A \\bigcap B)}{P(A)} = \\frac {P(A|B)P(B)}{\\sum P(A|B_i)P(B_i)}$ "
   ]
  },
  {
   "cell_type": "code",
   "execution_count": null,
   "metadata": {},
   "outputs": [],
   "source": []
  },
  {
   "cell_type": "markdown",
   "metadata": {},
   "source": [
    "## <span style=\"color:red\">**RANDOM VARIABLE AND PROBABILITY DISTRIBUTIONS**</span>"
   ]
  },
  {
   "cell_type": "markdown",
   "metadata": {},
   "source": [
    "**What is _BAYES'S RULE_ and its formula?**\n",
    "\n",
    "In probability and statistics, a random variable, random quantity, aleatory variable, or stochastic variable is described informally as a variable whose values depend on outcomes of a random phenomenon. \n",
    "\n",
    "The formal mathematical treatment of random variables is a topic in probability theory. In that context, a random variable is understood as a measurable function defined on a probability space that maps from the sample space to the real numbers.[WIKIPEDIA LINK](https://en.wikipedia.org/wiki/Random_variable)\n",
    "\n",
    "\n",
    "**A Random Variable has a whole set of values and it could take on any of those values, randomly.**"
   ]
  },
  {
   "cell_type": "code",
   "execution_count": null,
   "metadata": {},
   "outputs": [],
   "source": []
  },
  {
   "cell_type": "markdown",
   "metadata": {},
   "source": []
  },
  {
   "cell_type": "markdown",
   "metadata": {},
   "source": [
    "**What is _PROBABILITY FUNCTION_ for discrete variables?**\n",
    "\n",
    "A: Probability function: describes the probability $ P(X\\in E)$that the event E, from the sample space, occurs."
   ]
  },
  {
   "cell_type": "markdown",
   "metadata": {},
   "source": [
    "**What is _PROBABILITY DENSITY FUNCTION_ for discrete variables?**\n",
    "\n",
    "A: In probability and statistics, a probability mass function (PMF) is a function that gives the probability that a discrete random variable is exactly equal to some value"
   ]
  },
  {
   "cell_type": "markdown",
   "metadata": {},
   "source": [
    "**What is _PROPERTIES OF PROBABILITY DENSITY FUNCTION_?**\n",
    "\n",
    "1. $f(x)\\geqslant0$\n",
    "\n",
    "\n",
    "2. $ \\int^{+\\infty}_{-\\infty} f(x) \\, dx $\n",
    "\n"
   ]
  },
  {
   "cell_type": "markdown",
   "metadata": {},
   "source": [
    "**What is _PROBABILITY OF X LIES BETWEEN a AND b_?** \n",
    "\n",
    "if X is nondiscrete:\n",
    "\n",
    "$ P(a\\leqslant X \\leqslant b) = \\int^{b}_{a} f(x) \\, dx $\n",
    "\n",
    "if X is discrete:\n",
    "\n",
    "$ P(X=a) = f(a) $\n"
   ]
  },
  {
   "cell_type": "markdown",
   "metadata": {},
   "source": [
    "**What is _JOINT PROBABILITY DENSITY FUNCTION_ g(x,y)?** \n",
    "\n",
    "A:\n",
    "\n",
    "**What is _CUMULATIVE DENSITY FUNCTION_ F(X)?** \n",
    "\n",
    "A:"
   ]
  },
  {
   "cell_type": "markdown",
   "metadata": {},
   "source": [
    "**What is _EXPECTATION_ E(X)?** \n",
    "\n",
    "A: E(X) is a measure of the central tendency of the distribution\n",
    "\n",
    "$ E(X) = \\int^{+\\infty}_{-\\infty} xf(x) \\, dx $"
   ]
  },
  {
   "cell_type": "markdown",
   "metadata": {},
   "source": [
    "**What is _VARIANCE_ Var(X)?** \n",
    "\n",
    "A: Var(X) is a measure of spread\n",
    "\n",
    "$ Var(X) = \\int^{+\\infty}_{-\\infty} (x-E(X))^2f(x) \\, dx $\n",
    "\n",
    "$ Var(X) = E(X^2) - (E(X))^2$"
   ]
  },
  {
   "cell_type": "markdown",
   "metadata": {},
   "source": [
    "**What is _COVARIANCE_ Cov(X,Y)?** \n",
    "\n",
    "A: Cov(X,Y) is a measure of how strongly related two variables to each other\n",
    "\n",
    "$ Cov(X) = \\int^{+\\infty}_{-\\infty} \\int^{+\\infty}_{-\\infty} (x-E(X))(y-E(Y))f(x,y) \\, dxdy $\n",
    "\n",
    "$ Cov(X) = E(XY) - E(X)E(Y)$"
   ]
  },
  {
   "cell_type": "markdown",
   "metadata": {},
   "source": [
    "**What is _CORRELATION_ p(X,Y)?** \n",
    "\n",
    "A: p(X,Y) is a scaled covariance\n",
    "\n",
    "$ p(X,Y) = \\frac {Cov(X,Y)}{\\sqrt{Var(X)Var(Y)}}$"
   ]
  },
  {
   "cell_type": "markdown",
   "metadata": {},
   "source": [
    "<br>"
   ]
  },
  {
   "cell_type": "markdown",
   "metadata": {},
   "source": [
    "## <span style=\"color:red\">**COMMON PROBABILITY DISTRIBUTIONS**</span>"
   ]
  },
  {
   "cell_type": "markdown",
   "metadata": {},
   "source": [
    "**What is _BERNOULLI TRIAL?**\n",
    "\n",
    "A: In the theory of probability and statistics, a Bernoulli trial (or binomial trial) is a random experiment with exactly two possible outcomes, \"success\" and \"failure\", in which the probability of success is the same every time the experiment is conducted.\n",
    "\n",
    "It is named after Jacob Bernoulli, a 17th-century Swiss mathematician, who analyzed them in his Ars Conjectandi (1713). [link](https://en.wikipedia.org/wiki/Bernoulli_trial)\n",
    "\n",
    "an experiment with two outcomes: success with probability p, and fail with probability q."
   ]
  },
  {
   "cell_type": "markdown",
   "metadata": {},
   "source": [
    "**1. What is _BINOMIAL DISTRIBUTION?**\n",
    "\n",
    "In probability theory and statistics, the binomial distribution with parameters n and p is the discrete probability distribution of the number of successes in a sequence of n independent experiments, each asking a yes–no question, and each with its own Boolean-valued outcome: success (with probability p) or failure (with probability q = 1 − p). \n",
    "\n",
    "A single success/failure experiment is also called a Bernoulli trial or Bernoulli experiment, and a sequence of outcomes is called a Bernoulli process; for a single trial, i.e., n = 1, the binomial distribution is a Bernoulli distribution. The binomial distribution is the basis for the popular binomial test of statistical significance.[link](https://en.wikipedia.org/wiki/Binomial_distribution)\n",
    "\n",
    "\n",
    "It is a repeated BERNOULLI TRIALs. We repeat n times BERNOULLI TRIAL. p is success rate in each trial and k is the # of succeses in n trials\n",
    "\n",
    "Probability mass function:\n",
    "\n",
    "$f(k,n,p) = \\binom{n}{k} p^k (1-p)^{n-k}$\n"
   ]
  },
  {
   "cell_type": "markdown",
   "metadata": {},
   "source": [
    "**2. What is _NORMAL DISTRIBUTION?**\n",
    "\n",
    "In probability theory, a normal (or Gaussian or Gauss or Laplace–Gauss) distribution is a type of continuous probability distribution for a real-valued random variable. The general form of its probability density function is [link](https://en.wikipedia.org/wiki/Normal_distribution)\n",
    "\n",
    "$f(x) = \\frac{1} {\\sigma\\sqrt{2\\pi}}e^{-(x - \\mu)^{2}/(2\\sigma^{2}) } $\n",
    "\n",
    "$f(x) = \\frac{1} {\\sigma\\sqrt{2\\pi}} e^{-\\frac{1}{2} (\\frac{x - \\mu}{\\sigma})^2} $\n",
    "\n",
    "where $\\sigma^2$ is variance and $\\mu$ is mean. \n",
    "\n",
    "\n",
    "**What is _STANDARD NORMAL DISTRIBUTION?**\n",
    "\n",
    "$f(x) = \\frac{1} {\\sqrt{2\\pi}} e^{-\\frac{1}{2} (z)^2} $\n",
    "\n",
    "where z is a standard variable defined as $z = \\frac{x-\\mu}{\\sigma}$, variance 1 and mean is 0. "
   ]
  },
  {
   "cell_type": "code",
   "execution_count": 2,
   "metadata": {},
   "outputs": [],
   "source": [
    "import matplotlib.pyplot as plt\n",
    "import numpy as np\n",
    "import scipy.stats as stats\n",
    "import math"
   ]
  },
  {
   "cell_type": "code",
   "execution_count": 3,
   "metadata": {},
   "outputs": [
    {
     "data": {
      "image/png": "[encoded data removed]",
      "text/plain": [
       "<Figure size 432x288 with 1 Axes>"
      ]
     },
     "metadata": {
      "needs_background": "light"
     },
     "output_type": "display_data"
    }
   ],
   "source": [
    "%matplotlib inline\n",
    "\n",
    "mu = 0\n",
    "variance = 1\n",
    "sigma = math.sqrt(variance)\n",
    "\n",
    "x = np.linspace(mu - 3*sigma, mu + 3*sigma, 100)\n",
    "\n",
    "plt.plot(x, stats.norm.pdf(x, mu, sigma))\n",
    "plt.show()"
   ]
  },
  {
   "cell_type": "markdown",
   "metadata": {},
   "source": [
    "**What is _CENTRAL LIMIT THEOREM(CLT)_ ?**\n",
    "\n",
    "A:"
   ]
  },
  {
   "cell_type": "markdown",
   "metadata": {},
   "source": [
    "**3. What is _CHI-SQUARE DISTRIBUTION_ ?**\n",
    "\n",
    "In probability theory and statistics, the chi-square distribution (also chi-squared or χ2-distribution) with k degrees of freedom is the distribution of a sum of the squares of k independent standard normal random variables. The chi-square distribution is a special case of the gamma distribution and is one of the most widely used probability distributions in inferential statistics, notably in hypothesis testing and in construction of confidence intervals.[2][3][4][5] This distribution is sometimes called the central chi-square distribution, a special case of the more general noncentral chi-square distribution.\n",
    "\n",
    "The chi-square distribution is used in the common chi-square tests for goodness of fit of an observed distribution to a theoretical one, the independence of two criteria of classification of qualitative data, and in confidence interval estimation for a population standard deviation of a normal distribution from a sample standard deviation. Many other statistical tests also use this distribution, such as Friedman's analysis of variance by ranks. [link](https://en.wikipedia.org/wiki/Chi-square_distribution)\n",
    "\n"
   ]
  },
  {
   "cell_type": "markdown",
   "metadata": {},
   "source": [
    "**4. What is _STUDENT T-DISTRIBUTION?**\n",
    "\n",
    "In probability and statistics, Student's t-distribution (or simply the t-distribution) is any member of a family of continuous probability distributions that arise when estimating the mean of a normally-distributed population in situations \n",
    "\n",
    "where the sample size is small and the population's standard deviation is unknown. \n",
    "\n",
    "It was developed by English statistician William Sealy Gosset under the pseudonym \"Student\".\n",
    "\n",
    "\n",
    "\n",
    "Let sample mean $\\bar{x} = \\frac {\\sum x_i}{n}$, \n",
    "\n",
    "sample variance $\\ s^2 = \\frac {\\sum (x_i-\\bar{x})^2 }{n-1}$,\n",
    "\n",
    "population mean $\\mu$, \n",
    "\n",
    "population variance $\\sigma^2$ then\n",
    "\n",
    "$\\frac{\\bar{x}-\\mu}{\\sigma / \\sqrt{n}}$ has a standard normal distribution and \n",
    "\n",
    "$\\frac{\\bar{x}-\\mu}{s / \\sqrt{n}}$ has a Student's t- distribution with n-1 degrees of freedom"
   ]
  },
  {
   "cell_type": "markdown",
   "metadata": {},
   "source": [
    "**5. What is _F DISTRIBUTION?**\n",
    "\n",
    "In probability theory and statistics, the F-distribution, also known as Snedecor's F distribution or the Fisher–Snedecor distribution (after Ronald Fisher and George W. Snedecor) is a continuous probability distribution that arises frequently as the null distribution of a test statistic, most notably in the analysis of variance (ANOVA), e.g., F-test.[link](https://en.wikipedia.org/wiki/F-distribution)\n"
   ]
  },
  {
   "cell_type": "code",
   "execution_count": null,
   "metadata": {},
   "outputs": [],
   "source": []
  }
 ],
 "metadata": {
  "kernelspec": {
   "display_name": "Python 3",
   "language": "python",
   "name": "python3"
  },
  "language_info": {
   "codemirror_mode": {
    "name": "ipython",
    "version": 3
   },
   "file_extension": ".py",
   "mimetype": "text/x-python",
   "name": "python",
   "nbconvert_exporter": "python",
   "pygments_lexer": "ipython3",
   "version": "3.7.3"
  },
  "toc": {
   "base_numbering": 1,
   "nav_menu": {},
   "number_sections": false,
   "sideBar": true,
   "skip_h1_title": true,
   "title_cell": "Table of Contents",
   "title_sidebar": "Contents",
   "toc_cell": false,
   "toc_position": {},
   "toc_section_display": true,
   "toc_window_display": false
  }
 },
 "nbformat": 4,
 "nbformat_minor": 2
}
