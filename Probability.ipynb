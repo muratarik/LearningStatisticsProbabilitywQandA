{
 "cells": [
  {
   "cell_type": "code",
   "execution_count": null,
   "metadata": {},
   "outputs": [],
   "source": []
  },
  {
   "cell_type": "markdown",
   "metadata": {},
   "source": [
    "# <span style=\"color:red\">**PROBABILITY THEORY**</span>\n",
    "\n",
    "**What is _PROBABILITY_ ?**\n",
    "\n",
    "Probability is the branch of mathematics concerning numerical descriptions of how likely an event is to occur, or how likely it is that a proposition is true.https://en.wikipedia.org/wiki/Probability\n",
    "\n",
    "**What is modern definition of_PPROBABILITY THEORY_ ?**\n",
    "\n",
    "set of all possible outcomes in classical sense, denoted by \\Omega . It is then assumed that for each element \n",
    "\n",
    "$x\\in\\Omega$, an intrinsic \"probability\" value $f(x)$ is attached, which satisfies the following properties:https://en.wikipedia.org/wiki/Probability_theory\n",
    "\n",
    "1. $f(x) \\in [0,1]$ for all $x \\in \\Omega$\n",
    "\n",
    "\n",
    "2. $\\sum_{x \\in \\Omega} f(x)$"
   ]
  },
  {
   "cell_type": "markdown",
   "metadata": {},
   "source": [
    "**What is _SAMPLE SPACE_ ?**\n",
    "\n",
    "In probability theory, the sample space (also called sample description space or possibility space) of an experiment or random trial is the set of all possible outcomes or results of that experiment. https://en.wikipedia.org/wiki/Sample_space\n",
    "\n",
    "**What is _ELEMENTARY EVENT_ ?**\n",
    "\n",
    "In probability theory, an elementary event (also called an atomic event or sample point) is an event which contains only a single outcome in the sample space.\n",
    "\n",
    "**What is _EVENT_ ?**\n",
    "\n",
    "In probability theory, an event is a set of outcomes of an experiment (a subset of the sample space) to which a probability is assigned\n",
    "\n",
    "**What is _PROBABILITY of an ELEMENTARY EVENT_ ?**\n",
    "\n",
    "Elementary events may occur with probabilities that are between zero and one (inclusively).\n",
    "\n",
    "$0\\leqslant P(A) \\leqslant 1$"
   ]
  },
  {
   "cell_type": "markdown",
   "metadata": {},
   "source": [
    "**What is _COMPLEMENTARY EVENT_ ?**\n",
    "\n",
    "In probability theory, the complement of any event A is the event (not A), i.e. the event that A does not occur.\n",
    "\n",
    "The event A and its complement (not A) are mutually exclusive and exhaustive.\n",
    "\n",
    "$P(not A)=P(A^{c})=1-P(A)$"
   ]
  },
  {
   "cell_type": "markdown",
   "metadata": {},
   "source": [
    "**What is _JOINTS EVENTS' PROBABILITY_ ?**\n",
    "\n",
    "The probability of events A and B occur at the same time\n",
    "\n",
    "\n",
    "$P(A\\bigcup B) = P(A) + P(B) - P(A\\bigcap B)$\n",
    "\n",
    "**What is definition of _INDEPENDENT EVENTS_ ?**\n",
    "\n",
    "If events $A_1, A_2, A_3...$ are independent then\n",
    "\n",
    "\n",
    "$P(A_1 and A_2 and A_3 and ...) = P(A_1\\bigcap A_2 \\bigcap A_3 \\bigcap ...) = P(A_1)\\bigcap P(A_2) \\bigcap\n",
    "P(A_3)\\bigcap...$"
   ]
  },
  {
   "cell_type": "code",
   "execution_count": null,
   "metadata": {},
   "outputs": [],
   "source": []
  }
 ],
 "metadata": {
  "kernelspec": {
   "display_name": "Python 3",
   "language": "python",
   "name": "python3"
  },
  "language_info": {
   "codemirror_mode": {
    "name": "ipython",
    "version": 3
   },
   "file_extension": ".py",
   "mimetype": "text/x-python",
   "name": "python",
   "nbconvert_exporter": "python",
   "pygments_lexer": "ipython3",
   "version": "3.7.3"
  },
  "toc": {
   "base_numbering": 1,
   "nav_menu": {},
   "number_sections": false,
   "sideBar": true,
   "skip_h1_title": true,
   "title_cell": "Table of Contents",
   "title_sidebar": "Contents",
   "toc_cell": false,
   "toc_position": {},
   "toc_section_display": true,
   "toc_window_display": false
  }
 },
 "nbformat": 4,
 "nbformat_minor": 2
}
