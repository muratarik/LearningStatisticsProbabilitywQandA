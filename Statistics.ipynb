{
 "cells": [
  {
   "cell_type": "code",
   "execution_count": null,
   "metadata": {},
   "outputs": [],
   "source": []
  },
  {
   "cell_type": "markdown",
   "metadata": {},
   "source": [
    "# <span style=\"color:red\">**Statistics**</span>"
   ]
  },
  {
   "cell_type": "markdown",
   "metadata": {},
   "source": [
    "## Descriptive and Inferential Statistics"
   ]
  },
  {
   "cell_type": "markdown",
   "metadata": {},
   "source": [
    "**What is Descriptive Statistics?(https://en.wikipedia.org/wiki/Descriptive_statistics)**\n",
    "\n",
    "A descriptive statistic (in the count noun sense) is a summary statistic that quantitatively describes or summarizes features from a collection of information,[1] while descriptive statistics (in the mass noun sense) is the process of using and analysing those statistics. \n",
    "\n"
   ]
  },
  {
   "cell_type": "markdown",
   "metadata": {},
   "source": [
    "**What is Inferential Statistics?(https://en.wikipedia.org/wiki/Statistical_inference)**\n",
    "\n",
    "Statistical inference is the process of using data analysis to deduce properties of an underlying distribution of probability.[1] Inferential statistical analysis infers properties of a population, for example by testing hypotheses and deriving estimates. It is assumed that the observed data set is sampled from a larger population.\n",
    "\n",
    "Statistical inference makes propositions about a population, using data drawn from the population with some form of sampling. Given a hypothesis about a population, for which we wish to draw inferences, statistical inference consists of (first) selecting a statistical model of the process that generates the data and (second) deducing propositions from the model."
   ]
  },
  {
   "cell_type": "markdown",
   "metadata": {},
   "source": [
    "## **Descriptive Statistics**\n",
    "\n",
    "**What is population?(https://en.wikipedia.org/wiki/Statistical_population)**\n",
    "\n",
    "In statistics, a population is a set of similar items or events which is of interest for some question or experiment.[1] A statistical population can be a group of existing objects (e.g. the set of all stars within the Milky Way galaxy) or a hypothetical and potentially infinite group of objects conceived as a generalization from experience (e.g. the set of all possible hands in a game of poker).[2] A common aim of statistical analysis is to produce information about some chosen population.[3\n",
    "\n",
    "In statistical inference, a subset of the population (a *statistical sample*) is chosen to represent the population in a statistical analysis.[4] The ratio of the size of this statistical sample to the size of the population is called a sampling fraction. It is then possible to estimate the population parameters using the appropriate sample statistics.\n",
    "\n",
    "**What is sample?(https://en.wikipedia.org/wiki/Sample_(statistics)**\n",
    "\n",
    "In statistics and quantitative research methodology, a sample is a set of individuals or objects collected or selected from a statistical population by a defined procedure.[1] The elements of a sample are known as sample points, sampling units or observations. When conceived as a data set, a sample is often denoted by capital roman letters such X and Y, with its elements expressed in lower-case and the sample size denoted by the letter n"
   ]
  },
  {
   "cell_type": "markdown",
   "metadata": {},
   "source": [
    "**a.  What is _SAMPLE MEAN_ ?**\n",
    "\n",
    "A measure of the central tendency of the data: \n",
    "\n",
    "$\\bar{x} = \\frac {\\sum x_i}{n}$\n",
    "\n",
    "**b. What is _SAMPLE VARIANCE_ ?**\n",
    "\n",
    "A measure of the spread of the data:\n",
    "\n",
    "$\\ s^2 = \\frac {\\sum (x_i-\\bar{x})^2 }{n-1}$\n",
    "\n",
    "**c. What is _SAMPLE STANDARD DEVIATION_ ?**\n",
    "\n",
    "A measure of the spread of the data:\n",
    "\n",
    "$ s = \\sqrt{s^2} $"
   ]
  },
  {
   "cell_type": "markdown",
   "metadata": {},
   "source": [
    "**What is _RANGE OF SAMPLE_ ?**\n",
    "\n",
    "$ x_{max} - x_{min} $\n",
    "\n",
    "**What is _MODE OF SAMPLE_ ?**\n",
    "\n",
    "The most occurging value \n",
    "\n",
    "**What is _MEDIAN OF SAMPLE_ ?**\n",
    "\n",
    "In Ordered data from smallest to largest, the middle or average of the two middle values\n",
    "\n",
    "**What is _QUARTILES_ ?**\n",
    "\n",
    "In ordered data the values which divide the data in four eqaul parts. $ Q_{25}, Q_{50}, Q_{75}$ \n",
    "\n",
    "**What is _INTERQUARTILE_ ?**\n",
    "\n",
    "$ Q_{75} - Q_{50} $"
   ]
  },
  {
   "cell_type": "markdown",
   "metadata": {},
   "source": []
  }
 ],
 "metadata": {
  "kernelspec": {
   "display_name": "Python 3",
   "language": "python",
   "name": "python3"
  },
  "language_info": {
   "codemirror_mode": {
    "name": "ipython",
    "version": 3
   },
   "file_extension": ".py",
   "mimetype": "text/x-python",
   "name": "python",
   "nbconvert_exporter": "python",
   "pygments_lexer": "ipython3",
   "version": "3.7.3"
  },
  "toc": {
   "base_numbering": 1,
   "nav_menu": {},
   "number_sections": false,
   "sideBar": true,
   "skip_h1_title": true,
   "title_cell": "Table of Contents",
   "title_sidebar": "Contents",
   "toc_cell": false,
   "toc_position": {},
   "toc_section_display": true,
   "toc_window_display": false
  }
 },
 "nbformat": 4,
 "nbformat_minor": 2
}
